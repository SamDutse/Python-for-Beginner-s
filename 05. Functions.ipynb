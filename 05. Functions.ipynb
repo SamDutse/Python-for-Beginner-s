{
 "cells": [
  {
   "cell_type": "markdown",
   "metadata": {},
   "source": [
    "## Functions\n",
    "\n",
    "\n",
    "### what are functions?\n",
    "Functions are named blocks of code designed to do \n",
    "one specific job. Functions allow you to write code \n",
    "once that can then be run whenever you need to \n",
    "accomplish the same task. Functions can take in the \n",
    "information they need, and return the information they \n",
    "generate. Using functions effectively makes your \n",
    "programs easier to write, read, test, and fix"
   ]
  },
  {
   "cell_type": "markdown",
   "metadata": {},
   "source": [
    "### Defining a function\n",
    "The first line of a function is its definition, marked by the \n",
    "keyword def. The name of the function is followed by a set \n",
    "of parentheses and a colon. A docstring, in triple quotes, \n",
    "describes what the function does. The body of a function is \n",
    "indented one level.\n",
    " To call a function, give the name of the function followed \n",
    "by a set of parentheses.\n",
    "\n",
    "\n",
    "\n",
    "Making a function"
   ]
  },
  {
   "cell_type": "code",
   "execution_count": 1,
   "metadata": {},
   "outputs": [
    {
     "name": "stdout",
     "output_type": "stream",
     "text": [
      "Hello!\n"
     ]
    }
   ],
   "source": [
    "def greet_user():\n",
    "    \"\"\"Display a simple greeting.\"\"\"\n",
    "    print(\"Hello!\")\n",
    "greet_user()"
   ]
  },
  {
   "cell_type": "markdown",
   "metadata": {},
   "source": [
    "### Passing infirmation to a function\n",
    "Information that's passed to a function is called an \n",
    "argument; information that's received by a function is called \n",
    "a parameter. Arguments are included in parentheses after \n",
    "the function's name, and parameters are listed in \n",
    "parentheses in the function's definition.\n",
    "\n",
    "\n",
    "Passing a single argument"
   ]
  },
  {
   "cell_type": "code",
   "execution_count": 2,
   "metadata": {},
   "outputs": [
    {
     "name": "stdout",
     "output_type": "stream",
     "text": [
      "Hello, jesse!\n",
      "Hello, diana!\n",
      "Hello, brandon!\n"
     ]
    }
   ],
   "source": [
    "def greet_user(username):\n",
    "    \"\"\"Display a simple greeting.\"\"\"\n",
    "    print(\"Hello, \" + username + \"!\")\n",
    "greet_user('jesse')\n",
    "greet_user('diana')\n",
    "greet_user('brandon')\n"
   ]
  },
  {
   "cell_type": "markdown",
   "metadata": {},
   "source": [
    "### Positional and keyword argument\n",
    "The two main kinds of arguments are positional and \n",
    "keyword arguments. When you use positional arguments \n",
    "Python matches the first argument in the function call with\n",
    "the first parameter in the function definition, and so forth.\n",
    " With keyword arguments, you specify which parameter \n",
    "each argument should be assigned to in the function call. \n",
    "When you use keyword arguments, the order of the \n",
    "arguments doesn't matter.\n",
    "\n",
    "\n",
    "Using positional arguments"
   ]
  },
  {
   "cell_type": "code",
   "execution_count": 3,
   "metadata": {},
   "outputs": [
    {
     "name": "stdout",
     "output_type": "stream",
     "text": [
      "\n",
      "I have a hamster.\n",
      "Its name is harry.\n",
      "\n",
      "I have a dog.\n",
      "Its name is willie.\n"
     ]
    }
   ],
   "source": [
    "def describe_pet(animal, name):\n",
    "  \"\"\"Display information about a pet.\"\"\"\n",
    "  print(\"\\nI have a \" + animal + \".\")\n",
    "  print(\"Its name is \" + name + \".\")\n",
    "describe_pet('hamster', 'harry')\n",
    "describe_pet('dog', 'willie')"
   ]
  },
  {
   "cell_type": "markdown",
   "metadata": {},
   "source": [
    "Using keyword arguments"
   ]
  },
  {
   "cell_type": "code",
   "execution_count": 4,
   "metadata": {},
   "outputs": [
    {
     "name": "stdout",
     "output_type": "stream",
     "text": [
      "\n",
      "I have a hamster.\n",
      "Its name is harry.\n",
      "\n",
      "I have a dog.\n",
      "Its name is willie.\n"
     ]
    }
   ],
   "source": [
    "def describe_pet(animal, name):\n",
    "   \"\"\"Display information about a pet.\"\"\"\n",
    "   print(\"\\nI have a \" + animal + \".\")\n",
    "   print(\"Its name is \" + name + \".\")\n",
    "describe_pet(animal='hamster', name='harry')\n",
    "describe_pet(name='willie', animal='dog')"
   ]
  },
  {
   "cell_type": "markdown",
   "metadata": {},
   "source": [
    "### Default values\n",
    "You can provide a default value for a parameter. When \n",
    "function calls omit this argument the default value will be \n",
    "used. Parameters with default values must be listed after \n",
    "parameters without default values in the function's definition \n",
    "so positional arguments can still work correctly.\n",
    "\n",
    "\n",
    "\n",
    "Using a default value"
   ]
  },
  {
   "cell_type": "code",
   "execution_count": 6,
   "metadata": {},
   "outputs": [
    {
     "name": "stdout",
     "output_type": "stream",
     "text": [
      "\n",
      "I have a dog.\n",
      "Its name is harry.\n",
      "\n",
      "I have a dog.\n",
      "Its name is willie.\n"
     ]
    }
   ],
   "source": [
    "def describe_pet(name, animal='dog'):\n",
    "  \"\"\"Display information about a pet.\"\"\"\n",
    "  print(\"\\nI have a \" + animal + \".\")\n",
    "  print(\"Its name is \" + name + \".\")\n",
    "describe_pet('harry', 'hamster')\n",
    "describe_pet('willie')"
   ]
  },
  {
   "cell_type": "markdown",
   "metadata": {},
   "source": [
    "Using None to make an argument optional"
   ]
  },
  {
   "cell_type": "code",
   "execution_count": 7,
   "metadata": {},
   "outputs": [
    {
     "name": "stdout",
     "output_type": "stream",
     "text": [
      "\n",
      "I have a hamster.\n",
      "Its name is harry.\n",
      "\n",
      "I have a snake.\n"
     ]
    }
   ],
   "source": [
    "def describe_pet(animal, name=None):\n",
    "   \"\"\"Display information about a pet.\"\"\"\n",
    "   print(\"\\nI have a \" + animal + \".\")\n",
    "   if name:\n",
    "     print(\"Its name is \" + name + \".\")\n",
    "describe_pet('hamster', 'harry')\n",
    "describe_pet('snake')"
   ]
  },
  {
   "cell_type": "markdown",
   "metadata": {},
   "source": [
    "### Return value\n",
    "\n",
    "A function can return a value or a set of values. When a \n",
    "function returns a value, the calling line must provide a \n",
    "variable in which to store the return value. A function stops \n",
    "running when it reaches a return statement.\n",
    "\n",
    "\n",
    "Returning a single value"
   ]
  },
  {
   "cell_type": "code",
   "execution_count": 8,
   "metadata": {},
   "outputs": [
    {
     "name": "stdout",
     "output_type": "stream",
     "text": [
      "Jimi Hendrix\n"
     ]
    }
   ],
   "source": [
    "def get_full_name(first, last):\n",
    "  \"\"\"Return a neatly formatted full name.\"\"\"\n",
    "  full_name = first + ' ' + last\n",
    "  return full_name.title()\n",
    "musician = get_full_name('jimi', 'hendrix')\n",
    "print(musician)"
   ]
  },
  {
   "cell_type": "markdown",
   "metadata": {},
   "source": [
    "Returning a dictionary"
   ]
  },
  {
   "cell_type": "code",
   "execution_count": 9,
   "metadata": {},
   "outputs": [
    {
     "name": "stdout",
     "output_type": "stream",
     "text": [
      "{'first': 'jimi', 'last': 'hendrix'}\n"
     ]
    }
   ],
   "source": [
    "def build_person(first, last):\n",
    "  \"\"\"Return a dictionary of information about a person.\"\"\"\n",
    "  person = {'first': first, 'last': last}\n",
    "  return person\n",
    "musician = build_person('jimi', 'hendrix')\n",
    "print(musician)"
   ]
  },
  {
   "cell_type": "markdown",
   "metadata": {},
   "source": [
    "Returning a dictionary with optional values"
   ]
  },
  {
   "cell_type": "code",
   "execution_count": 10,
   "metadata": {},
   "outputs": [
    {
     "name": "stdout",
     "output_type": "stream",
     "text": [
      "{'first': 'jimi', 'last': 'hendrix', 'age': 27}\n",
      "None\n"
     ]
    }
   ],
   "source": [
    "def build_person(first, last, age=None):\n",
    "   \"\"\"Return a dictionary of information about a person.\"\"\"\n",
    "   person = {'first': first, 'last': last}\n",
    "   if age:\n",
    "     person['age'] = age\n",
    "     return person\n",
    "musician = build_person('jimi', 'hendrix', 27)\n",
    "print(musician)\n",
    "musician = build_person('janis', 'joplin')\n",
    "print(musician)"
   ]
  },
  {
   "cell_type": "code",
   "execution_count": null,
   "metadata": {},
   "outputs": [],
   "source": []
  }
 ],
 "metadata": {
  "kernelspec": {
   "display_name": "Python 3",
   "language": "python",
   "name": "python3"
  },
  "language_info": {
   "codemirror_mode": {
    "name": "ipython",
    "version": 3
   },
   "file_extension": ".py",
   "mimetype": "text/x-python",
   "name": "python",
   "nbconvert_exporter": "python",
   "pygments_lexer": "ipython3",
   "version": "3.12.2"
  }
 },
 "nbformat": 4,
 "nbformat_minor": 2
}
