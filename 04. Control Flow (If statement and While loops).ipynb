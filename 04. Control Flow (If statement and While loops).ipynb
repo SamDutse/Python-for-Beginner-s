{
 "cells": [
  {
   "cell_type": "markdown",
   "metadata": {},
   "source": [
    "## What are If statements? What are while loops?\n",
    "\n",
    "If statements allow you to examine the current state \n",
    "of a program and respond appropriately to that state. \n",
    "You can write a simple if statement that checks one \n",
    "condition, or you can create a complex series of if \n",
    "statements that idenitfy the exact conditions you're \n",
    "looking for.\n",
    "While loops run as long as certain conditions remain \n",
    "true. You can use while loops to let your programs \n",
    "run as long as your users want them to.\n",
    "\n",
    "\n",
    "### Conditional Tests\n",
    "\n",
    "A conditional test is an expression that can be evaluated as \n",
    "True or False. Python uses the values True and False to \n",
    "decide whether the code in an if statement should be \n",
    "executed.\n",
    "\n",
    "\n",
    "#### Checking for equality\n",
    "A single equal sign assigns a value to a variable. A double equal \n",
    "sign (==) checks whether two values are equal.\n"
   ]
  },
  {
   "cell_type": "code",
   "execution_count": 1,
   "metadata": {},
   "outputs": [
    {
     "data": {
      "text/plain": [
       "True"
      ]
     },
     "execution_count": 1,
     "metadata": {},
     "output_type": "execute_result"
    }
   ],
   "source": [
    "car = 'bmw'     # assigning car as 'bmw'\n",
    "car == 'bmw'    # checking if car is equal to 'bmw' which returns a True or False value"
   ]
  },
  {
   "cell_type": "code",
   "execution_count": 2,
   "metadata": {},
   "outputs": [
    {
     "data": {
      "text/plain": [
       "False"
      ]
     },
     "execution_count": 2,
     "metadata": {},
     "output_type": "execute_result"
    }
   ],
   "source": [
    "car = 'audi'    # re-assigning the value of car as 'audi'\n",
    "car == 'bmw'    # checking if car is equal to 'bmw'"
   ]
  },
  {
   "cell_type": "markdown",
   "metadata": {},
   "source": [
    "Ignoring case when making a comparison"
   ]
  },
  {
   "cell_type": "code",
   "execution_count": 3,
   "metadata": {},
   "outputs": [
    {
     "data": {
      "text/plain": [
       "True"
      ]
     },
     "execution_count": 3,
     "metadata": {},
     "output_type": "execute_result"
    }
   ],
   "source": [
    "car = 'Audi'\n",
    "car.lower() == 'audi'"
   ]
  },
  {
   "cell_type": "markdown",
   "metadata": {},
   "source": [
    "Checking for inequality"
   ]
  },
  {
   "cell_type": "code",
   "execution_count": 4,
   "metadata": {},
   "outputs": [
    {
     "data": {
      "text/plain": [
       "True"
      ]
     },
     "execution_count": 4,
     "metadata": {},
     "output_type": "execute_result"
    }
   ],
   "source": [
    "topping = 'mushrooms'\n",
    "topping != 'anchovies'"
   ]
  },
  {
   "cell_type": "markdown",
   "metadata": {},
   "source": [
    "### Numerical Comparisons\n",
    "Testing numerical values is similar to testing string values.\n",
    "\n",
    "\n",
    "Testing equality and inequality"
   ]
  },
  {
   "cell_type": "code",
   "execution_count": 5,
   "metadata": {},
   "outputs": [
    {
     "name": "stdout",
     "output_type": "stream",
     "text": [
      "True\n",
      "False\n"
     ]
    }
   ],
   "source": [
    "age = 18 # assigning a value to the variable age\n",
    "\n",
    "print(age == 18) # checking for equality\n",
    "\n",
    "print(age != 18) # checking for inequality"
   ]
  },
  {
   "cell_type": "markdown",
   "metadata": {},
   "source": [
    "Comparison operators"
   ]
  },
  {
   "cell_type": "code",
   "execution_count": 6,
   "metadata": {},
   "outputs": [
    {
     "name": "stdout",
     "output_type": "stream",
     "text": [
      "True\n",
      "True\n",
      "False\n",
      "False\n"
     ]
    }
   ],
   "source": [
    "age = 19\n",
    "print(age < 21) # < less than\n",
    "\n",
    "print(age <= 21) # <= less than or equal to\n",
    "\n",
    "print(age > 21) # > greater than\n",
    "\n",
    "print(age >= 21) # >= greater than or equal to"
   ]
  },
  {
   "cell_type": "markdown",
   "metadata": {},
   "source": [
    "### Checking for multiple conditions\n",
    "\n",
    "You can check multiple conditions at the same time. The \n",
    "and operator returns True if all the conditions listed are \n",
    "True. The or operator returns True if any condition is True"
   ]
  },
  {
   "cell_type": "markdown",
   "metadata": {},
   "source": [
    "Using and to check multiple conditions"
   ]
  },
  {
   "cell_type": "code",
   "execution_count": 7,
   "metadata": {},
   "outputs": [
    {
     "data": {
      "text/plain": [
       "False"
      ]
     },
     "execution_count": 7,
     "metadata": {},
     "output_type": "execute_result"
    }
   ],
   "source": [
    "age_0 = 22\n",
    "age_1 = 18\n",
    "\n",
    "age_0 >= 21 and age_1 >= 21"
   ]
  },
  {
   "cell_type": "code",
   "execution_count": 8,
   "metadata": {},
   "outputs": [
    {
     "data": {
      "text/plain": [
       "True"
      ]
     },
     "execution_count": 8,
     "metadata": {},
     "output_type": "execute_result"
    }
   ],
   "source": [
    "age_1 = 23\n",
    "\n",
    "age_0 >= 21 and age_1 >= 21"
   ]
  },
  {
   "cell_type": "markdown",
   "metadata": {},
   "source": [
    "Using or to check multiple conditions"
   ]
  },
  {
   "cell_type": "code",
   "execution_count": 9,
   "metadata": {},
   "outputs": [
    {
     "name": "stdout",
     "output_type": "stream",
     "text": [
      "True\n",
      "False\n"
     ]
    }
   ],
   "source": [
    "age_0 = 22\n",
    "age_1 = 18\n",
    "\n",
    "print(age_0 >= 21 or age_1 >= 21)\n",
    "\n",
    "age_0 = 18\n",
    "\n",
    "print(age_0 >= 21 or age_1 >= 21)"
   ]
  },
  {
   "cell_type": "markdown",
   "metadata": {},
   "source": [
    "### Boolean values\n",
    "\n",
    "A boolean value is either True or False. Variables with \n",
    "boolean values are often used to keep track of certain \n",
    "conditions within a program.\n",
    "\n",
    "\n",
    "\n",
    "Simple boolean values"
   ]
  },
  {
   "cell_type": "code",
   "execution_count": 10,
   "metadata": {},
   "outputs": [],
   "source": [
    "game_active = True\n",
    "can_edit = False"
   ]
  },
  {
   "cell_type": "markdown",
   "metadata": {},
   "source": [
    "### If Statements\n",
    "\n",
    "\n",
    "Several kinds of if statements exist. Your choice of which to \n",
    "use depends on the number of conditions you need to test. \n",
    "You can have as many elif blocks as you need, and the \n",
    "else block is always optional."
   ]
  },
  {
   "cell_type": "markdown",
   "metadata": {},
   "source": [
    "simple if statement"
   ]
  },
  {
   "cell_type": "code",
   "execution_count": 11,
   "metadata": {},
   "outputs": [
    {
     "name": "stdout",
     "output_type": "stream",
     "text": [
      "You're old enough to vote!\n"
     ]
    }
   ],
   "source": [
    "age = 19\n",
    "if age >= 18:\n",
    "    print(\"You're old enough to vote!\")"
   ]
  },
  {
   "cell_type": "markdown",
   "metadata": {},
   "source": [
    "if-else statements"
   ]
  },
  {
   "cell_type": "code",
   "execution_count": 12,
   "metadata": {},
   "outputs": [
    {
     "name": "stdout",
     "output_type": "stream",
     "text": [
      "You can't vote yet.\n"
     ]
    }
   ],
   "source": [
    "age = 17\n",
    "if age >= 18:\n",
    "   print(\"You're old enough to vote!\")\n",
    "else:\n",
    "    print(\"You can't vote yet.\")\n"
   ]
  },
  {
   "cell_type": "markdown",
   "metadata": {},
   "source": [
    "The if-elif-else chain"
   ]
  },
  {
   "cell_type": "code",
   "execution_count": 13,
   "metadata": {},
   "outputs": [
    {
     "name": "stdout",
     "output_type": "stream",
     "text": [
      "Your cost is $5.\n"
     ]
    }
   ],
   "source": [
    "age = 12\n",
    "if age < 4:\n",
    "  price = 0\n",
    "elif age < 18:\n",
    "  price = 5\n",
    "else:\n",
    "   price = 10\n",
    "print(\"Your cost is $\" + str(price) + \".\")"
   ]
  },
  {
   "cell_type": "markdown",
   "metadata": {},
   "source": [
    "### Conditional test with lists\n",
    "\n",
    "You can easily test whether a certain value is in a list. You \n",
    "can also test whether a list is empty before trying to loop \n",
    "through the list."
   ]
  },
  {
   "cell_type": "markdown",
   "metadata": {},
   "source": [
    "Testing if a value is in a list"
   ]
  },
  {
   "cell_type": "code",
   "execution_count": 14,
   "metadata": {},
   "outputs": [
    {
     "name": "stdout",
     "output_type": "stream",
     "text": [
      "True\n",
      "False\n"
     ]
    }
   ],
   "source": [
    "players = ['al', 'bea', 'cyn', 'dale']\n",
    "print('al' in players)\n",
    "\n",
    "print('eric' in players)"
   ]
  },
  {
   "cell_type": "markdown",
   "metadata": {},
   "source": [
    "Testing if a value is not in a list"
   ]
  },
  {
   "cell_type": "code",
   "execution_count": 15,
   "metadata": {},
   "outputs": [
    {
     "name": "stdout",
     "output_type": "stream",
     "text": [
      "You can play!\n"
     ]
    }
   ],
   "source": [
    "banned_users = ['ann', 'chad', 'dee']\n",
    "user = 'erin'\n",
    "if user not in banned_users:\n",
    "  print(\"You can play!\")"
   ]
  },
  {
   "cell_type": "markdown",
   "metadata": {},
   "source": [
    "Checking if a list is empty"
   ]
  },
  {
   "cell_type": "code",
   "execution_count": 21,
   "metadata": {},
   "outputs": [
    {
     "name": "stdout",
     "output_type": "stream",
     "text": [
      "Player: Sam\n",
      "Player: Jake\n"
     ]
    }
   ],
   "source": [
    "players = ['sam', 'jake']\n",
    "if players:\n",
    "   for player in players:\n",
    "     print(\"Player: \" + player.title())\n",
    "else:\n",
    "   print(\"We have no players yet!\")"
   ]
  },
  {
   "cell_type": "markdown",
   "metadata": {},
   "source": [
    "### Accepting numerical input\n",
    "\n",
    "\n",
    "You can allow your users to enter input using the input() \n",
    "statement. In Python 3, all input is stored as a string.\n",
    "\n",
    "\n",
    "Simple input"
   ]
  },
  {
   "cell_type": "code",
   "execution_count": 22,
   "metadata": {},
   "outputs": [
    {
     "name": "stdout",
     "output_type": "stream",
     "text": [
      "Hello, sam.\n"
     ]
    }
   ],
   "source": [
    "name = input(\"What's your name? \")\n",
    "print(\"Hello, \" + name + \".\")"
   ]
  },
  {
   "cell_type": "markdown",
   "metadata": {},
   "source": [
    "Accepting numerical input"
   ]
  },
  {
   "cell_type": "code",
   "execution_count": 23,
   "metadata": {},
   "outputs": [
    {
     "name": "stdout",
     "output_type": "stream",
     "text": [
      "\n",
      "You can't vote yet.\n"
     ]
    }
   ],
   "source": [
    "age = input(\"How old are you? \")\n",
    "age = int(age)\n",
    "if age >= 18:\n",
    "   print(\"\\nYou can vote!\")\n",
    "else:\n",
    "    print(\"\\nYou can't vote yet.\")"
   ]
  },
  {
   "cell_type": "markdown",
   "metadata": {},
   "source": [
    "## While loops\n",
    "\n",
    "A while loop repeats a block of code as long as a condition is True.\n",
    "\n",
    "\n",
    "Counting to 5"
   ]
  },
  {
   "cell_type": "code",
   "execution_count": 24,
   "metadata": {},
   "outputs": [
    {
     "name": "stdout",
     "output_type": "stream",
     "text": [
      "1\n",
      "2\n",
      "3\n",
      "4\n",
      "5\n"
     ]
    }
   ],
   "source": [
    "current_number = 1\n",
    "while current_number <= 5:\n",
    "    print(current_number)\n",
    "    current_number += 1 # or can be writtten in elaborate form as current_number = current_number + 1"
   ]
  },
  {
   "cell_type": "markdown",
   "metadata": {},
   "source": [
    "Letting the user choose when to quit"
   ]
  },
  {
   "cell_type": "code",
   "execution_count": 25,
   "metadata": {},
   "outputs": [
    {
     "name": "stdout",
     "output_type": "stream",
     "text": [
      "man\n"
     ]
    }
   ],
   "source": [
    "prompt = \"\\nTell me something, and I'll \"\n",
    "prompt += \"repeat it back to you.\"\n",
    "prompt += \"\\nEnter 'quit' to end the program. \"\n",
    "message = \"\"\n",
    "while message != 'quit':\n",
    "   message = input(prompt)\n",
    "   if message != 'quit':\n",
    "     print(message)"
   ]
  },
  {
   "cell_type": "markdown",
   "metadata": {},
   "source": [
    "Using a flag"
   ]
  },
  {
   "cell_type": "code",
   "execution_count": 29,
   "metadata": {},
   "outputs": [
    {
     "name": "stdout",
     "output_type": "stream",
     "text": [
      "that is great\n"
     ]
    }
   ],
   "source": [
    "prompt = \"\\nTell me something, and I'll \"\n",
    "prompt += \"repeat it back to you.\"\n",
    "prompt += \"\\nEnter 'quit' to end the program. \"\n",
    "\n",
    "active = True\n",
    "\n",
    "while active:\n",
    "    message = input(prompt)\n",
    "    if message == 'quit':\n",
    "        active = False\n",
    "    else:\n",
    "        print(message)\n",
    "            "
   ]
  },
  {
   "cell_type": "markdown",
   "metadata": {},
   "source": [
    "Using break to exit a loop"
   ]
  },
  {
   "cell_type": "code",
   "execution_count": 1,
   "metadata": {},
   "outputs": [
    {
     "name": "stdout",
     "output_type": "stream",
     "text": [
      "i have been to abuja!\n",
      "i have been to lagos!\n",
      "i have been to kano!\n",
      "i have been to port harcourt!\n",
      "i have been to Jos!\n",
      "i have been to London!\n",
      "i have been to New York!\n"
     ]
    }
   ],
   "source": [
    "prompt = \"\\nWhat cities have you visited?\"\n",
    "prompt += \"\\nEnter 'quit' when you're done. \"\n",
    "\n",
    "while True:\n",
    "   city = input(prompt)\n",
    "   if city == 'quit':\n",
    "      break\n",
    "   else:\n",
    "      print(\"i have been to \" + city + \"!\")"
   ]
  },
  {
   "cell_type": "markdown",
   "metadata": {},
   "source": [
    "Using continue in a loop"
   ]
  },
  {
   "cell_type": "code",
   "execution_count": 3,
   "metadata": {},
   "outputs": [
    {
     "name": "stdout",
     "output_type": "stream",
     "text": [
      "\n",
      "Your team:\n",
      "xavi \n",
      "\n",
      "Your team:\n",
      "xavi \n",
      "messi\n",
      "\n",
      "Your team:\n",
      "xavi \n",
      "messi\n",
      "busquet\n",
      "\n",
      "Your team:\n",
      "xavi \n",
      "messi\n",
      "busquet\n",
      "iniesta\n",
      "\n",
      "Your team:\n",
      "xavi \n",
      "messi\n",
      "busquet\n",
      "iniesta\n",
      "puyol\n",
      "\n",
      "Your team:\n",
      "xavi \n",
      "messi\n",
      "busquet\n",
      "iniesta\n",
      "puyol\n",
      "alves\n",
      "\n",
      "Your team:\n",
      "xavi \n",
      "messi\n",
      "busquet\n",
      "iniesta\n",
      "puyol\n",
      "alves\n",
      "alba\n",
      "\n",
      "Your team:\n",
      "xavi \n",
      "messi\n",
      "busquet\n",
      "iniesta\n",
      "puyol\n",
      "alves\n",
      "alba\n",
      "van dirk\n",
      "\n",
      "Your team:\n",
      "xavi \n",
      "messi\n",
      "busquet\n",
      "iniesta\n",
      "puyol\n",
      "alves\n",
      "alba\n",
      "van dirk\n",
      "suarez\n"
     ]
    }
   ],
   "source": [
    "banned_users = ['eve', 'fred', 'gary', 'helen']\n",
    "prompt = \"\\nAdd a player to your team.\"\n",
    "prompt += \"\\nEnter 'quit' when you're done. \"\n",
    "players = []\n",
    "while True:\n",
    "  player = input(prompt)\n",
    "  if player == 'quit':\n",
    "    break\n",
    "  elif player in banned_users:\n",
    "    print(player + \" is banned!\")\n",
    "    continue\n",
    "  else:\n",
    "    players.append(player)\n",
    "    print(\"\\nYour team:\")\n",
    "\n",
    "    for player in players:\n",
    "        print(player)"
   ]
  },
  {
   "cell_type": "markdown",
   "metadata": {},
   "source": [
    "### Avoiding Infinite loops\n",
    "\n",
    "Every while loop needs a way to stop running so it won't \n",
    "continue to run forever. If there's no way for the condition to \n",
    "become False, the loop will never stop running.\n",
    "\n",
    "\n",
    "An infinite loop"
   ]
  },
  {
   "cell_type": "code",
   "execution_count": 4,
   "metadata": {},
   "outputs": [
    {
     "name": "stdout",
     "output_type": "stream",
     "text": [
      "Nice to meet you, sam!\n",
      "Nice to meet you, sam!\n",
      "Nice to meet you, sam!\n"
     ]
    }
   ],
   "source": [
    "while True:\n",
    " name = input(\"\\nWho are you? \")\n",
    " print(\"Nice to meet you, \" + name + \"!\")\n",
    " break"
   ]
  },
  {
   "cell_type": "markdown",
   "metadata": {},
   "source": []
  },
  {
   "cell_type": "markdown",
   "metadata": {},
   "source": [
    "### Removing all instance of a value from a list\n",
    "\n",
    "The remove() method removes a specific value from a list, \n",
    "but it only removes the first instance of the value you \n",
    "provide. You can use a while loop to remove all instances \n",
    "of a particular value. \n",
    "\n",
    "\n",
    "Removing all cats from a list of pets"
   ]
  },
  {
   "cell_type": "code",
   "execution_count": 2,
   "metadata": {},
   "outputs": [
    {
     "name": "stdout",
     "output_type": "stream",
     "text": [
      "['dog', 'cat', 'dog', 'fish', 'cat', 'rabbit', 'cat']\n"
     ]
    }
   ],
   "source": [
    "pets = ['dog', 'cat', 'dog', 'fish', 'cat','rabbit', 'cat']\n",
    "print(pets)\n",
    "while 'cat' in pets:\n",
    "    pets.remove('cat')"
   ]
  },
  {
   "cell_type": "code",
   "execution_count": 3,
   "metadata": {},
   "outputs": [
    {
     "data": {
      "text/plain": [
       "['dog', 'dog', 'fish', 'rabbit']"
      ]
     },
     "execution_count": 3,
     "metadata": {},
     "output_type": "execute_result"
    }
   ],
   "source": [
    "pets"
   ]
  }
 ],
 "metadata": {
  "kernelspec": {
   "display_name": "Python 3",
   "language": "python",
   "name": "python3"
  },
  "language_info": {
   "codemirror_mode": {
    "name": "ipython",
    "version": 3
   },
   "file_extension": ".py",
   "mimetype": "text/x-python",
   "name": "python",
   "nbconvert_exporter": "python",
   "pygments_lexer": "ipython3",
   "version": "3.12.2"
  }
 },
 "nbformat": 4,
 "nbformat_minor": 2
}
